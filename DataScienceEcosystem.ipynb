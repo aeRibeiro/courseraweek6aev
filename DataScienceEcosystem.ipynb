{
 "cells": [
  {
   "cell_type": "markdown",
   "id": "be490b61-3bd4-4fc6-b885-dbfcadda79c5",
   "metadata": {},
   "source": [
    "# Data Science Tools and Ecosystem "
   ]
  },
  {
   "cell_type": "markdown",
   "id": "50acf5c8-02f0-4362-bdc1-7de1db3ddfcb",
   "metadata": {},
   "source": [
    "#### In this notebook, Data Science Tools and Ecosystem are summarized."
   ]
  },
  {
   "cell_type": "markdown",
   "id": "545ab823-30ef-4222-9d35-5557f9d009f3",
   "metadata": {},
   "source": [
    "**Objectives:**\n",
    "- list popular languages for Data Science.\n",
    "- list most common libraries used in Data Science\n",
    "- list tools used in Data Science\n",
    "  \n"
   ]
  },
  {
   "cell_type": "markdown",
   "id": "4a74a678-82a8-42b5-a892-1e6491f7013a",
   "metadata": {},
   "source": [
    "##### Some of the popular languages that Data Scientists use are:\n",
    "1. Python\n",
    "2. R\n",
    "3. SQL"
   ]
  },
  {
   "cell_type": "markdown",
   "id": "f3f66c7f-b138-4a13-8e8e-9b40b2be96ae",
   "metadata": {},
   "source": [
    "#### Some of the commonly used libraries used by Data Scientists include:\n",
    "1. Matplotlib\n",
    "2. Panda\n",
    "3. Seaborn\n",
    "4. Keras"
   ]
  },
  {
   "cell_type": "markdown",
   "id": "b2f162ed-0e6c-48aa-bb7b-62b9147404cd",
   "metadata": {},
   "source": [
    "|Data Science Tools |\n",
    ":---------------\n",
    "|Julia |\n",
    "|MATLAB |\n",
    "|Tableau |\n",
    " "
   ]
  },
  {
   "cell_type": "markdown",
   "id": "dabb4a9e-18fc-4e5f-8e2b-dce46d61571b",
   "metadata": {},
   "source": [
    "### Below are a few examples of evaluating arithmetic expressions in Python"
   ]
  },
  {
   "cell_type": "code",
   "execution_count": 4,
   "id": "8aef18b4-eca3-4fb8-82bb-12334defcc94",
   "metadata": {},
   "outputs": [
    {
     "data": {
      "text/plain": [
       "17"
      ]
     },
     "execution_count": 4,
     "metadata": {},
     "output_type": "execute_result"
    }
   ],
   "source": [
    "#This a simple arithmetic expression to mutiply then add integers.\n",
    "(3*4)+5"
   ]
  },
  {
   "cell_type": "code",
   "execution_count": 14,
   "id": "32bc4041-1944-4905-ad6d-9aee6a5f8dfe",
   "metadata": {},
   "outputs": [
    {
     "name": "stdout",
     "output_type": "stream",
     "text": [
      "33.33\n"
     ]
    }
   ],
   "source": [
    "# This will convert 200 minutes to hours by diving by 60\n",
    "print(round(200/6,2))\n"
   ]
  },
  {
   "cell_type": "markdown",
   "id": "dcb01f59-6bc7-4fad-9431-78c9d2f91ae4",
   "metadata": {},
   "source": [
    "## Author:\n",
    "Antonio E Ribeiro Villar"
   ]
  },
  {
   "cell_type": "code",
   "execution_count": null,
   "id": "75032c6b-211f-43a7-bb88-0e459df7109b",
   "metadata": {},
   "outputs": [],
   "source": []
  }
 ],
 "metadata": {
  "kernelspec": {
   "display_name": "Python 3 (ipykernel)",
   "language": "python",
   "name": "python3"
  },
  "language_info": {
   "codemirror_mode": {
    "name": "ipython",
    "version": 3
   },
   "file_extension": ".py",
   "mimetype": "text/x-python",
   "name": "python",
   "nbconvert_exporter": "python",
   "pygments_lexer": "ipython3",
   "version": "3.8.2"
  }
 },
 "nbformat": 4,
 "nbformat_minor": 5
}
